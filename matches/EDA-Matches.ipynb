{
 "cells": [
  {
   "cell_type": "code",
   "execution_count": 240,
   "id": "8b7cb4e7-f512-492c-8c81-756f3fed4674",
   "metadata": {},
   "outputs": [],
   "source": [
    "import pandas as pd\n",
    "import numpy as np\n",
    "import matplotlib.pyplot as plt\n",
    "import seaborn as sns\n",
    "%matplotlib inline"
   ]
  },
  {
   "cell_type": "code",
   "execution_count": 241,
   "id": "3bc7f315-dd44-467e-9abc-3f79a2a1abca",
   "metadata": {},
   "outputs": [
    {
     "data": {
      "text/html": [
       "<div>\n",
       "<style scoped>\n",
       "    .dataframe tbody tr th:only-of-type {\n",
       "        vertical-align: middle;\n",
       "    }\n",
       "\n",
       "    .dataframe tbody tr th {\n",
       "        vertical-align: top;\n",
       "    }\n",
       "\n",
       "    .dataframe thead th {\n",
       "        text-align: right;\n",
       "    }\n",
       "</style>\n",
       "<table border=\"1\" class=\"dataframe\">\n",
       "  <thead>\n",
       "    <tr style=\"text-align: right;\">\n",
       "      <th></th>\n",
       "      <th>id</th>\n",
       "      <th>Season</th>\n",
       "      <th>city</th>\n",
       "      <th>date</th>\n",
       "      <th>team1</th>\n",
       "      <th>team2</th>\n",
       "      <th>toss_winner</th>\n",
       "      <th>toss_decision</th>\n",
       "      <th>result</th>\n",
       "      <th>dl_applied</th>\n",
       "      <th>winner</th>\n",
       "      <th>win_by_runs</th>\n",
       "      <th>win_by_wickets</th>\n",
       "      <th>player_of_match</th>\n",
       "      <th>venue</th>\n",
       "      <th>umpire1</th>\n",
       "      <th>umpire2</th>\n",
       "      <th>umpire3</th>\n",
       "    </tr>\n",
       "  </thead>\n",
       "  <tbody>\n",
       "    <tr>\n",
       "      <th>0</th>\n",
       "      <td>1</td>\n",
       "      <td>IPL-2017</td>\n",
       "      <td>Hyderabad</td>\n",
       "      <td>05-04-2017</td>\n",
       "      <td>Sunrisers Hyderabad</td>\n",
       "      <td>Royal Challengers Bangalore</td>\n",
       "      <td>Royal Challengers Bangalore</td>\n",
       "      <td>field</td>\n",
       "      <td>normal</td>\n",
       "      <td>0</td>\n",
       "      <td>Sunrisers Hyderabad</td>\n",
       "      <td>35</td>\n",
       "      <td>0</td>\n",
       "      <td>Yuvraj Singh</td>\n",
       "      <td>Rajiv Gandhi International Stadium, Uppal</td>\n",
       "      <td>AY Dandekar</td>\n",
       "      <td>NJ Llong</td>\n",
       "      <td>NaN</td>\n",
       "    </tr>\n",
       "    <tr>\n",
       "      <th>1</th>\n",
       "      <td>2</td>\n",
       "      <td>IPL-2017</td>\n",
       "      <td>Pune</td>\n",
       "      <td>06-04-2017</td>\n",
       "      <td>Mumbai Indians</td>\n",
       "      <td>Rising Pune Supergiant</td>\n",
       "      <td>Rising Pune Supergiant</td>\n",
       "      <td>field</td>\n",
       "      <td>normal</td>\n",
       "      <td>0</td>\n",
       "      <td>Rising Pune Supergiant</td>\n",
       "      <td>0</td>\n",
       "      <td>7</td>\n",
       "      <td>SPD Smith</td>\n",
       "      <td>Maharashtra Cricket Association Stadium</td>\n",
       "      <td>A Nand Kishore</td>\n",
       "      <td>S Ravi</td>\n",
       "      <td>NaN</td>\n",
       "    </tr>\n",
       "    <tr>\n",
       "      <th>2</th>\n",
       "      <td>3</td>\n",
       "      <td>IPL-2017</td>\n",
       "      <td>Rajkot</td>\n",
       "      <td>07-04-2017</td>\n",
       "      <td>Gujarat Lions</td>\n",
       "      <td>Kolkata Knight Riders</td>\n",
       "      <td>Kolkata Knight Riders</td>\n",
       "      <td>field</td>\n",
       "      <td>normal</td>\n",
       "      <td>0</td>\n",
       "      <td>Kolkata Knight Riders</td>\n",
       "      <td>0</td>\n",
       "      <td>10</td>\n",
       "      <td>CA Lynn</td>\n",
       "      <td>Saurashtra Cricket Association Stadium</td>\n",
       "      <td>Nitin Menon</td>\n",
       "      <td>CK Nandan</td>\n",
       "      <td>NaN</td>\n",
       "    </tr>\n",
       "    <tr>\n",
       "      <th>3</th>\n",
       "      <td>4</td>\n",
       "      <td>IPL-2017</td>\n",
       "      <td>Indore</td>\n",
       "      <td>08-04-2017</td>\n",
       "      <td>Rising Pune Supergiant</td>\n",
       "      <td>Kings XI Punjab</td>\n",
       "      <td>Kings XI Punjab</td>\n",
       "      <td>field</td>\n",
       "      <td>normal</td>\n",
       "      <td>0</td>\n",
       "      <td>Kings XI Punjab</td>\n",
       "      <td>0</td>\n",
       "      <td>6</td>\n",
       "      <td>GJ Maxwell</td>\n",
       "      <td>Holkar Cricket Stadium</td>\n",
       "      <td>AK Chaudhary</td>\n",
       "      <td>C Shamshuddin</td>\n",
       "      <td>NaN</td>\n",
       "    </tr>\n",
       "    <tr>\n",
       "      <th>4</th>\n",
       "      <td>5</td>\n",
       "      <td>IPL-2017</td>\n",
       "      <td>Bangalore</td>\n",
       "      <td>08-04-2017</td>\n",
       "      <td>Royal Challengers Bangalore</td>\n",
       "      <td>Delhi Daredevils</td>\n",
       "      <td>Royal Challengers Bangalore</td>\n",
       "      <td>bat</td>\n",
       "      <td>normal</td>\n",
       "      <td>0</td>\n",
       "      <td>Royal Challengers Bangalore</td>\n",
       "      <td>15</td>\n",
       "      <td>0</td>\n",
       "      <td>KM Jadhav</td>\n",
       "      <td>M Chinnaswamy Stadium</td>\n",
       "      <td>NaN</td>\n",
       "      <td>NaN</td>\n",
       "      <td>NaN</td>\n",
       "    </tr>\n",
       "  </tbody>\n",
       "</table>\n",
       "</div>"
      ],
      "text/plain": [
       "   id    Season       city        date                        team1  \\\n",
       "0   1  IPL-2017  Hyderabad  05-04-2017          Sunrisers Hyderabad   \n",
       "1   2  IPL-2017       Pune  06-04-2017               Mumbai Indians   \n",
       "2   3  IPL-2017     Rajkot  07-04-2017                Gujarat Lions   \n",
       "3   4  IPL-2017     Indore  08-04-2017       Rising Pune Supergiant   \n",
       "4   5  IPL-2017  Bangalore  08-04-2017  Royal Challengers Bangalore   \n",
       "\n",
       "                         team2                  toss_winner toss_decision  \\\n",
       "0  Royal Challengers Bangalore  Royal Challengers Bangalore         field   \n",
       "1       Rising Pune Supergiant       Rising Pune Supergiant         field   \n",
       "2        Kolkata Knight Riders        Kolkata Knight Riders         field   \n",
       "3              Kings XI Punjab              Kings XI Punjab         field   \n",
       "4             Delhi Daredevils  Royal Challengers Bangalore           bat   \n",
       "\n",
       "   result  dl_applied                       winner  win_by_runs  \\\n",
       "0  normal           0          Sunrisers Hyderabad           35   \n",
       "1  normal           0       Rising Pune Supergiant            0   \n",
       "2  normal           0        Kolkata Knight Riders            0   \n",
       "3  normal           0              Kings XI Punjab            0   \n",
       "4  normal           0  Royal Challengers Bangalore           15   \n",
       "\n",
       "   win_by_wickets player_of_match                                      venue  \\\n",
       "0               0    Yuvraj Singh  Rajiv Gandhi International Stadium, Uppal   \n",
       "1               7       SPD Smith    Maharashtra Cricket Association Stadium   \n",
       "2              10         CA Lynn     Saurashtra Cricket Association Stadium   \n",
       "3               6      GJ Maxwell                     Holkar Cricket Stadium   \n",
       "4               0       KM Jadhav                      M Chinnaswamy Stadium   \n",
       "\n",
       "          umpire1        umpire2 umpire3  \n",
       "0     AY Dandekar       NJ Llong     NaN  \n",
       "1  A Nand Kishore         S Ravi     NaN  \n",
       "2     Nitin Menon      CK Nandan     NaN  \n",
       "3    AK Chaudhary  C Shamshuddin     NaN  \n",
       "4             NaN            NaN     NaN  "
      ]
     },
     "execution_count": 241,
     "metadata": {},
     "output_type": "execute_result"
    }
   ],
   "source": [
    "df=pd.read_csv('matches.csv')\n",
    "df.head()"
   ]
  },
  {
   "cell_type": "code",
   "execution_count": 242,
   "id": "7bb7f3e5-e595-48bf-bad4-b78e2a68b2aa",
   "metadata": {},
   "outputs": [
    {
     "data": {
      "text/plain": [
       "(756, 18)"
      ]
     },
     "execution_count": 242,
     "metadata": {},
     "output_type": "execute_result"
    }
   ],
   "source": [
    "df.shape"
   ]
  },
  {
   "cell_type": "code",
   "execution_count": 243,
   "id": "ca8285cd-9048-4208-8cc2-5d0dbb2c1eda",
   "metadata": {},
   "outputs": [
    {
     "name": "stdout",
     "output_type": "stream",
     "text": [
      "<class 'pandas.core.frame.DataFrame'>\n",
      "RangeIndex: 756 entries, 0 to 755\n",
      "Data columns (total 18 columns):\n",
      " #   Column           Non-Null Count  Dtype \n",
      "---  ------           --------------  ----- \n",
      " 0   id               756 non-null    int64 \n",
      " 1   Season           756 non-null    object\n",
      " 2   city             749 non-null    object\n",
      " 3   date             756 non-null    object\n",
      " 4   team1            756 non-null    object\n",
      " 5   team2            756 non-null    object\n",
      " 6   toss_winner      756 non-null    object\n",
      " 7   toss_decision    756 non-null    object\n",
      " 8   result           756 non-null    object\n",
      " 9   dl_applied       756 non-null    int64 \n",
      " 10  winner           752 non-null    object\n",
      " 11  win_by_runs      756 non-null    int64 \n",
      " 12  win_by_wickets   756 non-null    int64 \n",
      " 13  player_of_match  752 non-null    object\n",
      " 14  venue            756 non-null    object\n",
      " 15  umpire1          754 non-null    object\n",
      " 16  umpire2          754 non-null    object\n",
      " 17  umpire3          119 non-null    object\n",
      "dtypes: int64(4), object(14)\n",
      "memory usage: 106.4+ KB\n"
     ]
    }
   ],
   "source": [
    "df.info()"
   ]
  },
  {
   "cell_type": "code",
   "execution_count": 244,
   "id": "cd693a33-4901-4030-a36d-169d9c2cf1fb",
   "metadata": {},
   "outputs": [
    {
     "data": {
      "text/html": [
       "<div>\n",
       "<style scoped>\n",
       "    .dataframe tbody tr th:only-of-type {\n",
       "        vertical-align: middle;\n",
       "    }\n",
       "\n",
       "    .dataframe tbody tr th {\n",
       "        vertical-align: top;\n",
       "    }\n",
       "\n",
       "    .dataframe thead th {\n",
       "        text-align: right;\n",
       "    }\n",
       "</style>\n",
       "<table border=\"1\" class=\"dataframe\">\n",
       "  <thead>\n",
       "    <tr style=\"text-align: right;\">\n",
       "      <th></th>\n",
       "      <th>id</th>\n",
       "      <th>dl_applied</th>\n",
       "      <th>win_by_runs</th>\n",
       "      <th>win_by_wickets</th>\n",
       "    </tr>\n",
       "  </thead>\n",
       "  <tbody>\n",
       "    <tr>\n",
       "      <th>count</th>\n",
       "      <td>756.000000</td>\n",
       "      <td>756.000000</td>\n",
       "      <td>756.000000</td>\n",
       "      <td>756.000000</td>\n",
       "    </tr>\n",
       "    <tr>\n",
       "      <th>mean</th>\n",
       "      <td>1792.178571</td>\n",
       "      <td>0.025132</td>\n",
       "      <td>13.283069</td>\n",
       "      <td>3.350529</td>\n",
       "    </tr>\n",
       "    <tr>\n",
       "      <th>std</th>\n",
       "      <td>3464.478148</td>\n",
       "      <td>0.156630</td>\n",
       "      <td>23.471144</td>\n",
       "      <td>3.387963</td>\n",
       "    </tr>\n",
       "    <tr>\n",
       "      <th>min</th>\n",
       "      <td>1.000000</td>\n",
       "      <td>0.000000</td>\n",
       "      <td>0.000000</td>\n",
       "      <td>0.000000</td>\n",
       "    </tr>\n",
       "    <tr>\n",
       "      <th>25%</th>\n",
       "      <td>189.750000</td>\n",
       "      <td>0.000000</td>\n",
       "      <td>0.000000</td>\n",
       "      <td>0.000000</td>\n",
       "    </tr>\n",
       "    <tr>\n",
       "      <th>50%</th>\n",
       "      <td>378.500000</td>\n",
       "      <td>0.000000</td>\n",
       "      <td>0.000000</td>\n",
       "      <td>4.000000</td>\n",
       "    </tr>\n",
       "    <tr>\n",
       "      <th>75%</th>\n",
       "      <td>567.250000</td>\n",
       "      <td>0.000000</td>\n",
       "      <td>19.000000</td>\n",
       "      <td>6.000000</td>\n",
       "    </tr>\n",
       "    <tr>\n",
       "      <th>max</th>\n",
       "      <td>11415.000000</td>\n",
       "      <td>1.000000</td>\n",
       "      <td>146.000000</td>\n",
       "      <td>10.000000</td>\n",
       "    </tr>\n",
       "  </tbody>\n",
       "</table>\n",
       "</div>"
      ],
      "text/plain": [
       "                 id  dl_applied  win_by_runs  win_by_wickets\n",
       "count    756.000000  756.000000   756.000000      756.000000\n",
       "mean    1792.178571    0.025132    13.283069        3.350529\n",
       "std     3464.478148    0.156630    23.471144        3.387963\n",
       "min        1.000000    0.000000     0.000000        0.000000\n",
       "25%      189.750000    0.000000     0.000000        0.000000\n",
       "50%      378.500000    0.000000     0.000000        4.000000\n",
       "75%      567.250000    0.000000    19.000000        6.000000\n",
       "max    11415.000000    1.000000   146.000000       10.000000"
      ]
     },
     "execution_count": 244,
     "metadata": {},
     "output_type": "execute_result"
    }
   ],
   "source": [
    "df.describe()"
   ]
  },
  {
   "cell_type": "markdown",
   "id": "3aa44daa-e305-49e4-919f-9890a05c6b98",
   "metadata": {},
   "source": [
    "### Listing the features having missing values"
   ]
  },
  {
   "cell_type": "code",
   "execution_count": 245,
   "id": "03de6cf5-92a2-4c0a-9132-23a3121adb1c",
   "metadata": {},
   "outputs": [
    {
     "name": "stdout",
     "output_type": "stream",
     "text": [
      "city 0.9259 %\n",
      "winner 0.5291 %\n",
      "player_of_match 0.5291 %\n",
      "umpire1 0.2646 %\n",
      "umpire2 0.2646 %\n",
      "umpire3 84.2593 %\n"
     ]
    }
   ],
   "source": [
    "# listing all the feature that contains missing vlues\n",
    "feature_nan=[feature for feature in df.columns if df[feature].isnull().sum()>0]\n",
    "# stating the percentage of missing values in each feature \n",
    "for feature in feature_nan:\n",
    "    print(feature ,np.round(df[feature].isnull().mean()*100,4),'%')"
   ]
  },
  {
   "cell_type": "markdown",
   "id": "8401cb4f-1481-4940-9de2-11c71dedce08",
   "metadata": {},
   "source": [
    "#### WE can make few important observations from these % figures of missing values.\n",
    "1. City has approx. 1% of missing values\n",
    "2. Winner and player of match have only 0.5% misiing values out of all instances\n",
    "3. Umpire features are of no use as they are nominal data and we can drop them, also the Umpire 3 feature has 84% of missing values hence can be dropped easily."
   ]
  },
  {
   "cell_type": "markdown",
   "id": "98a131df-0821-42f6-b77a-d8900fa84133",
   "metadata": {},
   "source": [
    "## Handling Missing values"
   ]
  },
  {
   "cell_type": "markdown",
   "id": "9e029abd-3c7d-46ea-a608-4affaa1989b1",
   "metadata": {},
   "source": [
    "### 1. City"
   ]
  },
  {
   "cell_type": "code",
   "execution_count": 246,
   "id": "8bc63e11-5fe7-40e5-b811-09e1364a78c7",
   "metadata": {},
   "outputs": [
    {
     "data": {
      "text/html": [
       "<div>\n",
       "<style scoped>\n",
       "    .dataframe tbody tr th:only-of-type {\n",
       "        vertical-align: middle;\n",
       "    }\n",
       "\n",
       "    .dataframe tbody tr th {\n",
       "        vertical-align: top;\n",
       "    }\n",
       "\n",
       "    .dataframe thead th {\n",
       "        text-align: right;\n",
       "    }\n",
       "</style>\n",
       "<table border=\"1\" class=\"dataframe\">\n",
       "  <thead>\n",
       "    <tr style=\"text-align: right;\">\n",
       "      <th></th>\n",
       "      <th>team1</th>\n",
       "      <th>team2</th>\n",
       "      <th>venue</th>\n",
       "      <th>Season</th>\n",
       "      <th>city</th>\n",
       "    </tr>\n",
       "  </thead>\n",
       "  <tbody>\n",
       "    <tr>\n",
       "      <th>461</th>\n",
       "      <td>Mumbai Indians</td>\n",
       "      <td>Royal Challengers Bangalore</td>\n",
       "      <td>Dubai International Cricket Stadium</td>\n",
       "      <td>IPL-2014</td>\n",
       "      <td>NaN</td>\n",
       "    </tr>\n",
       "    <tr>\n",
       "      <th>462</th>\n",
       "      <td>Kolkata Knight Riders</td>\n",
       "      <td>Delhi Daredevils</td>\n",
       "      <td>Dubai International Cricket Stadium</td>\n",
       "      <td>IPL-2014</td>\n",
       "      <td>NaN</td>\n",
       "    </tr>\n",
       "    <tr>\n",
       "      <th>466</th>\n",
       "      <td>Chennai Super Kings</td>\n",
       "      <td>Rajasthan Royals</td>\n",
       "      <td>Dubai International Cricket Stadium</td>\n",
       "      <td>IPL-2014</td>\n",
       "      <td>NaN</td>\n",
       "    </tr>\n",
       "    <tr>\n",
       "      <th>468</th>\n",
       "      <td>Sunrisers Hyderabad</td>\n",
       "      <td>Delhi Daredevils</td>\n",
       "      <td>Dubai International Cricket Stadium</td>\n",
       "      <td>IPL-2014</td>\n",
       "      <td>NaN</td>\n",
       "    </tr>\n",
       "    <tr>\n",
       "      <th>469</th>\n",
       "      <td>Mumbai Indians</td>\n",
       "      <td>Chennai Super Kings</td>\n",
       "      <td>Dubai International Cricket Stadium</td>\n",
       "      <td>IPL-2014</td>\n",
       "      <td>NaN</td>\n",
       "    </tr>\n",
       "    <tr>\n",
       "      <th>474</th>\n",
       "      <td>Royal Challengers Bangalore</td>\n",
       "      <td>Kings XI Punjab</td>\n",
       "      <td>Dubai International Cricket Stadium</td>\n",
       "      <td>IPL-2014</td>\n",
       "      <td>NaN</td>\n",
       "    </tr>\n",
       "    <tr>\n",
       "      <th>476</th>\n",
       "      <td>Sunrisers Hyderabad</td>\n",
       "      <td>Mumbai Indians</td>\n",
       "      <td>Dubai International Cricket Stadium</td>\n",
       "      <td>IPL-2014</td>\n",
       "      <td>NaN</td>\n",
       "    </tr>\n",
       "  </tbody>\n",
       "</table>\n",
       "</div>"
      ],
      "text/plain": [
       "                           team1                        team2  \\\n",
       "461               Mumbai Indians  Royal Challengers Bangalore   \n",
       "462        Kolkata Knight Riders             Delhi Daredevils   \n",
       "466          Chennai Super Kings             Rajasthan Royals   \n",
       "468          Sunrisers Hyderabad             Delhi Daredevils   \n",
       "469               Mumbai Indians          Chennai Super Kings   \n",
       "474  Royal Challengers Bangalore              Kings XI Punjab   \n",
       "476          Sunrisers Hyderabad               Mumbai Indians   \n",
       "\n",
       "                                   venue    Season city  \n",
       "461  Dubai International Cricket Stadium  IPL-2014  NaN  \n",
       "462  Dubai International Cricket Stadium  IPL-2014  NaN  \n",
       "466  Dubai International Cricket Stadium  IPL-2014  NaN  \n",
       "468  Dubai International Cricket Stadium  IPL-2014  NaN  \n",
       "469  Dubai International Cricket Stadium  IPL-2014  NaN  \n",
       "474  Dubai International Cricket Stadium  IPL-2014  NaN  \n",
       "476  Dubai International Cricket Stadium  IPL-2014  NaN  "
      ]
     },
     "execution_count": 246,
     "metadata": {},
     "output_type": "execute_result"
    }
   ],
   "source": [
    "df[(df['city'].isnull())][['team1','team2','venue','Season','city']]"
   ]
  },
  {
   "cell_type": "markdown",
   "id": "2e1e4504-572f-4bac-a984-baaaea0ba100",
   "metadata": {},
   "source": [
    "### Observations : this table will be really helpful in handling the missing values of the 'city' feature as they all are from one season and venue is same for all.\n",
    "##### 1. we can either drop these instances as they make for less than 1 % of all the instances, or we can just manually fill the city feature as its a factual data.\n",
    "So here we will fill this detail manually, as this stadium is located in Dubai."
   ]
  },
  {
   "cell_type": "code",
   "execution_count": 247,
   "id": "f5882e48-d017-4f60-87e6-0d8d8447344e",
   "metadata": {},
   "outputs": [
    {
     "data": {
      "text/plain": [
       "461    Dubai\n",
       "462    Dubai\n",
       "466    Dubai\n",
       "468    Dubai\n",
       "469    Dubai\n",
       "474    Dubai\n",
       "476    Dubai\n",
       "Name: city, dtype: object"
      ]
     },
     "execution_count": 247,
     "metadata": {},
     "output_type": "execute_result"
    }
   ],
   "source": [
    "# lets make these changes in the original df only.\n",
    "df.loc[(df['venue']=='Dubai International Cricket Stadium'),'city']='Dubai'\n",
    "df[(df['venue']=='Dubai International Cricket Stadium')]['city']"
   ]
  },
  {
   "cell_type": "markdown",
   "id": "67195664-8c85-49f0-ba3d-c73d2baae575",
   "metadata": {},
   "source": [
    "#### so we have handled the missing values of the feature 'city'"
   ]
  },
  {
   "cell_type": "markdown",
   "id": "70c462ce-4178-413b-8432-4ff6431a129b",
   "metadata": {},
   "source": [
    "### 2. Winner \n",
    "lets see the instances for once we can actually delete these instances directly as they are only  4 missing values "
   ]
  },
  {
   "cell_type": "code",
   "execution_count": 248,
   "id": "d40abb8c-3de4-4a92-9628-e5ee012beea3",
   "metadata": {},
   "outputs": [
    {
     "data": {
      "text/html": [
       "<div>\n",
       "<style scoped>\n",
       "    .dataframe tbody tr th:only-of-type {\n",
       "        vertical-align: middle;\n",
       "    }\n",
       "\n",
       "    .dataframe tbody tr th {\n",
       "        vertical-align: top;\n",
       "    }\n",
       "\n",
       "    .dataframe thead th {\n",
       "        text-align: right;\n",
       "    }\n",
       "</style>\n",
       "<table border=\"1\" class=\"dataframe\">\n",
       "  <thead>\n",
       "    <tr style=\"text-align: right;\">\n",
       "      <th></th>\n",
       "      <th>id</th>\n",
       "      <th>Season</th>\n",
       "      <th>city</th>\n",
       "      <th>date</th>\n",
       "      <th>team1</th>\n",
       "      <th>team2</th>\n",
       "      <th>toss_winner</th>\n",
       "      <th>toss_decision</th>\n",
       "      <th>result</th>\n",
       "      <th>dl_applied</th>\n",
       "      <th>winner</th>\n",
       "      <th>win_by_runs</th>\n",
       "      <th>win_by_wickets</th>\n",
       "      <th>player_of_match</th>\n",
       "      <th>venue</th>\n",
       "      <th>umpire1</th>\n",
       "      <th>umpire2</th>\n",
       "      <th>umpire3</th>\n",
       "    </tr>\n",
       "  </thead>\n",
       "  <tbody>\n",
       "    <tr>\n",
       "      <th>300</th>\n",
       "      <td>301</td>\n",
       "      <td>IPL-2011</td>\n",
       "      <td>Delhi</td>\n",
       "      <td>21-05-2011</td>\n",
       "      <td>Delhi Daredevils</td>\n",
       "      <td>Pune Warriors</td>\n",
       "      <td>Delhi Daredevils</td>\n",
       "      <td>bat</td>\n",
       "      <td>no result</td>\n",
       "      <td>0</td>\n",
       "      <td>NaN</td>\n",
       "      <td>0</td>\n",
       "      <td>0</td>\n",
       "      <td>NaN</td>\n",
       "      <td>Feroz Shah Kotla</td>\n",
       "      <td>SS Hazare</td>\n",
       "      <td>RJ Tucker</td>\n",
       "      <td>NaN</td>\n",
       "    </tr>\n",
       "    <tr>\n",
       "      <th>545</th>\n",
       "      <td>546</td>\n",
       "      <td>IPL-2015</td>\n",
       "      <td>Bangalore</td>\n",
       "      <td>29-04-2015</td>\n",
       "      <td>Royal Challengers Bangalore</td>\n",
       "      <td>Rajasthan Royals</td>\n",
       "      <td>Rajasthan Royals</td>\n",
       "      <td>field</td>\n",
       "      <td>no result</td>\n",
       "      <td>0</td>\n",
       "      <td>NaN</td>\n",
       "      <td>0</td>\n",
       "      <td>0</td>\n",
       "      <td>NaN</td>\n",
       "      <td>M Chinnaswamy Stadium</td>\n",
       "      <td>JD Cloete</td>\n",
       "      <td>PG Pathak</td>\n",
       "      <td>NaN</td>\n",
       "    </tr>\n",
       "    <tr>\n",
       "      <th>570</th>\n",
       "      <td>571</td>\n",
       "      <td>IPL-2015</td>\n",
       "      <td>Bangalore</td>\n",
       "      <td>17-05-2015</td>\n",
       "      <td>Delhi Daredevils</td>\n",
       "      <td>Royal Challengers Bangalore</td>\n",
       "      <td>Royal Challengers Bangalore</td>\n",
       "      <td>field</td>\n",
       "      <td>no result</td>\n",
       "      <td>0</td>\n",
       "      <td>NaN</td>\n",
       "      <td>0</td>\n",
       "      <td>0</td>\n",
       "      <td>NaN</td>\n",
       "      <td>M Chinnaswamy Stadium</td>\n",
       "      <td>HDPK Dharmasena</td>\n",
       "      <td>K Srinivasan</td>\n",
       "      <td>NaN</td>\n",
       "    </tr>\n",
       "    <tr>\n",
       "      <th>744</th>\n",
       "      <td>11340</td>\n",
       "      <td>IPL-2019</td>\n",
       "      <td>Bengaluru</td>\n",
       "      <td>30-04-2019</td>\n",
       "      <td>Royal Challengers Bangalore</td>\n",
       "      <td>Rajasthan Royals</td>\n",
       "      <td>Rajasthan Royals</td>\n",
       "      <td>field</td>\n",
       "      <td>no result</td>\n",
       "      <td>0</td>\n",
       "      <td>NaN</td>\n",
       "      <td>0</td>\n",
       "      <td>0</td>\n",
       "      <td>NaN</td>\n",
       "      <td>M. Chinnaswamy Stadium</td>\n",
       "      <td>Nigel Llong</td>\n",
       "      <td>Ulhas Gandhe</td>\n",
       "      <td>Anil Chaudhary</td>\n",
       "    </tr>\n",
       "  </tbody>\n",
       "</table>\n",
       "</div>"
      ],
      "text/plain": [
       "        id    Season       city        date                        team1  \\\n",
       "300    301  IPL-2011      Delhi  21-05-2011             Delhi Daredevils   \n",
       "545    546  IPL-2015  Bangalore  29-04-2015  Royal Challengers Bangalore   \n",
       "570    571  IPL-2015  Bangalore  17-05-2015             Delhi Daredevils   \n",
       "744  11340  IPL-2019  Bengaluru  30-04-2019  Royal Challengers Bangalore   \n",
       "\n",
       "                           team2                  toss_winner toss_decision  \\\n",
       "300                Pune Warriors             Delhi Daredevils           bat   \n",
       "545             Rajasthan Royals             Rajasthan Royals         field   \n",
       "570  Royal Challengers Bangalore  Royal Challengers Bangalore         field   \n",
       "744             Rajasthan Royals             Rajasthan Royals         field   \n",
       "\n",
       "        result  dl_applied winner  win_by_runs  win_by_wickets  \\\n",
       "300  no result           0    NaN            0               0   \n",
       "545  no result           0    NaN            0               0   \n",
       "570  no result           0    NaN            0               0   \n",
       "744  no result           0    NaN            0               0   \n",
       "\n",
       "    player_of_match                   venue          umpire1       umpire2  \\\n",
       "300             NaN        Feroz Shah Kotla        SS Hazare     RJ Tucker   \n",
       "545             NaN   M Chinnaswamy Stadium        JD Cloete     PG Pathak   \n",
       "570             NaN   M Chinnaswamy Stadium  HDPK Dharmasena  K Srinivasan   \n",
       "744             NaN  M. Chinnaswamy Stadium      Nigel Llong  Ulhas Gandhe   \n",
       "\n",
       "            umpire3  \n",
       "300             NaN  \n",
       "545             NaN  \n",
       "570             NaN  \n",
       "744  Anil Chaudhary  "
      ]
     },
     "execution_count": 248,
     "metadata": {},
     "output_type": "execute_result"
    }
   ],
   "source": [
    "df[(df['winner'].isnull())]"
   ]
  },
  {
   "cell_type": "markdown",
   "id": "7d1c07be-e530-47e7-bf3f-c5d7cf43e17a",
   "metadata": {},
   "source": [
    "## observations: \n",
    "All these nan values means something i.e there was no result in these matches. which can be due to wheather and other uncontrollable reasons, as they are very less only 4 intances we will drop these instances."
   ]
  },
  {
   "cell_type": "code",
   "execution_count": 249,
   "id": "0f635794-93ab-4592-b125-4ce386d292cf",
   "metadata": {},
   "outputs": [
    {
     "data": {
      "text/plain": [
       "(752, 18)"
      ]
     },
     "execution_count": 249,
     "metadata": {},
     "output_type": "execute_result"
    }
   ],
   "source": [
    "# lets make a copy of our original data frame and then drop these instances.\n",
    "df_1=df.copy()\n",
    "# dropping the missimg istances from the feature winner.\n",
    "df_1.dropna(subset='winner',inplace=True)\n",
    "# checking the shape of our new dataFrame after dropping 4 instances\n",
    "df_1.shape"
   ]
  },
  {
   "cell_type": "code",
   "execution_count": 250,
   "id": "0c2b0d98-7dc1-4461-b596-79b2aeacf382",
   "metadata": {},
   "outputs": [
    {
     "data": {
      "text/plain": [
       "id                   0\n",
       "Season               0\n",
       "city                 0\n",
       "date                 0\n",
       "team1                0\n",
       "team2                0\n",
       "toss_winner          0\n",
       "toss_decision        0\n",
       "result               0\n",
       "dl_applied           0\n",
       "winner               0\n",
       "win_by_runs          0\n",
       "win_by_wickets       0\n",
       "player_of_match      0\n",
       "venue                0\n",
       "umpire1              2\n",
       "umpire2              2\n",
       "umpire3            634\n",
       "dtype: int64"
      ]
     },
     "execution_count": 250,
     "metadata": {},
     "output_type": "execute_result"
    }
   ],
   "source": [
    "# lets check for null values again\n",
    "df_1.isnull().sum()"
   ]
  },
  {
   "cell_type": "markdown",
   "id": "db5d5eae-7004-43fd-94f2-8cc57e9c0880",
   "metadata": {},
   "source": [
    "## Observations:\n",
    "we can clearly observe that now we have only three umpire features that has missing values, and we will drop these along with id as they are of no use."
   ]
  },
  {
   "cell_type": "code",
   "execution_count": 251,
   "id": "cc09449f-0e1c-4b27-a1ed-aa776ffe9c48",
   "metadata": {},
   "outputs": [
    {
     "data": {
      "text/plain": [
       "Index(['id', 'Season', 'city', 'date', 'team1', 'team2', 'toss_winner',\n",
       "       'toss_decision', 'result', 'dl_applied', 'winner', 'win_by_runs',\n",
       "       'win_by_wickets', 'player_of_match', 'venue', 'umpire1', 'umpire2',\n",
       "       'umpire3'],\n",
       "      dtype='object')"
      ]
     },
     "execution_count": 251,
     "metadata": {},
     "output_type": "execute_result"
    }
   ],
   "source": [
    "df_1.columns"
   ]
  },
  {
   "cell_type": "code",
   "execution_count": 252,
   "id": "441f2c93-9069-4a58-a3a0-588600ba5db2",
   "metadata": {},
   "outputs": [],
   "source": [
    "# dropping features that are of no use \n",
    "df_1.drop(['id','umpire1','umpire2','umpire3'],axis=1,inplace=True)"
   ]
  },
  {
   "cell_type": "code",
   "execution_count": 253,
   "id": "02c46d4f-7273-4fb2-b085-cad7232e2496",
   "metadata": {},
   "outputs": [
    {
     "data": {
      "text/plain": [
       "(752, 14)"
      ]
     },
     "execution_count": 253,
     "metadata": {},
     "output_type": "execute_result"
    }
   ],
   "source": [
    "df_1.shape"
   ]
  },
  {
   "cell_type": "markdown",
   "id": "86d999a5-e771-489a-9ab7-b79192083e73",
   "metadata": {},
   "source": [
    "## NOTE: this new df_1 has no missing values and we have also dropped few features that are of no use."
   ]
  },
  {
   "cell_type": "code",
   "execution_count": 254,
   "id": "075a9a5e-676b-4859-ab6d-796a05bf1c12",
   "metadata": {},
   "outputs": [
    {
     "data": {
      "text/html": [
       "<div>\n",
       "<style scoped>\n",
       "    .dataframe tbody tr th:only-of-type {\n",
       "        vertical-align: middle;\n",
       "    }\n",
       "\n",
       "    .dataframe tbody tr th {\n",
       "        vertical-align: top;\n",
       "    }\n",
       "\n",
       "    .dataframe thead th {\n",
       "        text-align: right;\n",
       "    }\n",
       "</style>\n",
       "<table border=\"1\" class=\"dataframe\">\n",
       "  <thead>\n",
       "    <tr style=\"text-align: right;\">\n",
       "      <th></th>\n",
       "      <th>Season</th>\n",
       "      <th>city</th>\n",
       "      <th>date</th>\n",
       "      <th>team1</th>\n",
       "      <th>team2</th>\n",
       "      <th>toss_winner</th>\n",
       "      <th>toss_decision</th>\n",
       "      <th>result</th>\n",
       "      <th>dl_applied</th>\n",
       "      <th>winner</th>\n",
       "      <th>win_by_runs</th>\n",
       "      <th>win_by_wickets</th>\n",
       "      <th>player_of_match</th>\n",
       "      <th>venue</th>\n",
       "    </tr>\n",
       "  </thead>\n",
       "  <tbody>\n",
       "    <tr>\n",
       "      <th>0</th>\n",
       "      <td>IPL-2017</td>\n",
       "      <td>Hyderabad</td>\n",
       "      <td>05-04-2017</td>\n",
       "      <td>Sunrisers Hyderabad</td>\n",
       "      <td>Royal Challengers Bangalore</td>\n",
       "      <td>Royal Challengers Bangalore</td>\n",
       "      <td>field</td>\n",
       "      <td>normal</td>\n",
       "      <td>0</td>\n",
       "      <td>Sunrisers Hyderabad</td>\n",
       "      <td>35</td>\n",
       "      <td>0</td>\n",
       "      <td>Yuvraj Singh</td>\n",
       "      <td>Rajiv Gandhi International Stadium, Uppal</td>\n",
       "    </tr>\n",
       "    <tr>\n",
       "      <th>1</th>\n",
       "      <td>IPL-2017</td>\n",
       "      <td>Pune</td>\n",
       "      <td>06-04-2017</td>\n",
       "      <td>Mumbai Indians</td>\n",
       "      <td>Rising Pune Supergiant</td>\n",
       "      <td>Rising Pune Supergiant</td>\n",
       "      <td>field</td>\n",
       "      <td>normal</td>\n",
       "      <td>0</td>\n",
       "      <td>Rising Pune Supergiant</td>\n",
       "      <td>0</td>\n",
       "      <td>7</td>\n",
       "      <td>SPD Smith</td>\n",
       "      <td>Maharashtra Cricket Association Stadium</td>\n",
       "    </tr>\n",
       "    <tr>\n",
       "      <th>2</th>\n",
       "      <td>IPL-2017</td>\n",
       "      <td>Rajkot</td>\n",
       "      <td>07-04-2017</td>\n",
       "      <td>Gujarat Lions</td>\n",
       "      <td>Kolkata Knight Riders</td>\n",
       "      <td>Kolkata Knight Riders</td>\n",
       "      <td>field</td>\n",
       "      <td>normal</td>\n",
       "      <td>0</td>\n",
       "      <td>Kolkata Knight Riders</td>\n",
       "      <td>0</td>\n",
       "      <td>10</td>\n",
       "      <td>CA Lynn</td>\n",
       "      <td>Saurashtra Cricket Association Stadium</td>\n",
       "    </tr>\n",
       "    <tr>\n",
       "      <th>3</th>\n",
       "      <td>IPL-2017</td>\n",
       "      <td>Indore</td>\n",
       "      <td>08-04-2017</td>\n",
       "      <td>Rising Pune Supergiant</td>\n",
       "      <td>Kings XI Punjab</td>\n",
       "      <td>Kings XI Punjab</td>\n",
       "      <td>field</td>\n",
       "      <td>normal</td>\n",
       "      <td>0</td>\n",
       "      <td>Kings XI Punjab</td>\n",
       "      <td>0</td>\n",
       "      <td>6</td>\n",
       "      <td>GJ Maxwell</td>\n",
       "      <td>Holkar Cricket Stadium</td>\n",
       "    </tr>\n",
       "    <tr>\n",
       "      <th>4</th>\n",
       "      <td>IPL-2017</td>\n",
       "      <td>Bangalore</td>\n",
       "      <td>08-04-2017</td>\n",
       "      <td>Royal Challengers Bangalore</td>\n",
       "      <td>Delhi Daredevils</td>\n",
       "      <td>Royal Challengers Bangalore</td>\n",
       "      <td>bat</td>\n",
       "      <td>normal</td>\n",
       "      <td>0</td>\n",
       "      <td>Royal Challengers Bangalore</td>\n",
       "      <td>15</td>\n",
       "      <td>0</td>\n",
       "      <td>KM Jadhav</td>\n",
       "      <td>M Chinnaswamy Stadium</td>\n",
       "    </tr>\n",
       "  </tbody>\n",
       "</table>\n",
       "</div>"
      ],
      "text/plain": [
       "     Season       city        date                        team1  \\\n",
       "0  IPL-2017  Hyderabad  05-04-2017          Sunrisers Hyderabad   \n",
       "1  IPL-2017       Pune  06-04-2017               Mumbai Indians   \n",
       "2  IPL-2017     Rajkot  07-04-2017                Gujarat Lions   \n",
       "3  IPL-2017     Indore  08-04-2017       Rising Pune Supergiant   \n",
       "4  IPL-2017  Bangalore  08-04-2017  Royal Challengers Bangalore   \n",
       "\n",
       "                         team2                  toss_winner toss_decision  \\\n",
       "0  Royal Challengers Bangalore  Royal Challengers Bangalore         field   \n",
       "1       Rising Pune Supergiant       Rising Pune Supergiant         field   \n",
       "2        Kolkata Knight Riders        Kolkata Knight Riders         field   \n",
       "3              Kings XI Punjab              Kings XI Punjab         field   \n",
       "4             Delhi Daredevils  Royal Challengers Bangalore           bat   \n",
       "\n",
       "   result  dl_applied                       winner  win_by_runs  \\\n",
       "0  normal           0          Sunrisers Hyderabad           35   \n",
       "1  normal           0       Rising Pune Supergiant            0   \n",
       "2  normal           0        Kolkata Knight Riders            0   \n",
       "3  normal           0              Kings XI Punjab            0   \n",
       "4  normal           0  Royal Challengers Bangalore           15   \n",
       "\n",
       "   win_by_wickets player_of_match                                      venue  \n",
       "0               0    Yuvraj Singh  Rajiv Gandhi International Stadium, Uppal  \n",
       "1               7       SPD Smith    Maharashtra Cricket Association Stadium  \n",
       "2              10         CA Lynn     Saurashtra Cricket Association Stadium  \n",
       "3               6      GJ Maxwell                     Holkar Cricket Stadium  \n",
       "4               0       KM Jadhav                      M Chinnaswamy Stadium  "
      ]
     },
     "execution_count": 254,
     "metadata": {},
     "output_type": "execute_result"
    }
   ],
   "source": [
    "df_1.head()"
   ]
  },
  {
   "cell_type": "code",
   "execution_count": 255,
   "id": "26a52df9-ba7f-406f-b570-dbda305409f3",
   "metadata": {},
   "outputs": [
    {
     "data": {
      "text/plain": [
       "['Season',\n",
       " 'city',\n",
       " 'date',\n",
       " 'team1',\n",
       " 'team2',\n",
       " 'toss_winner',\n",
       " 'toss_decision',\n",
       " 'result',\n",
       " 'winner',\n",
       " 'player_of_match',\n",
       " 'venue',\n",
       " 'umpire1',\n",
       " 'umpire2',\n",
       " 'umpire3']"
      ]
     },
     "execution_count": 255,
     "metadata": {},
     "output_type": "execute_result"
    }
   ],
   "source": [
    "# lets see our categorical features \n",
    "feature_cat=[feature for feature in df.columns if df[feature].dtypes=='O']\n",
    "feature_cat"
   ]
  },
  {
   "cell_type": "markdown",
   "id": "dcee5151-bb3b-4117-a196-e8762382e236",
   "metadata": {},
   "source": [
    "### lets see uniques of every feature and take necessary steps to organise them "
   ]
  },
  {
   "cell_type": "code",
   "execution_count": 256,
   "id": "8c85a9e9-f674-474e-aabf-3f2855979299",
   "metadata": {},
   "outputs": [
    {
     "data": {
      "text/plain": [
       "array(['IPL-2017', 'IPL-2008', 'IPL-2009', 'IPL-2010', 'IPL-2011',\n",
       "       'IPL-2012', 'IPL-2013', 'IPL-2014', 'IPL-2015', 'IPL-2016',\n",
       "       'IPL-2018', 'IPL-2019'], dtype=object)"
      ]
     },
     "execution_count": 256,
     "metadata": {},
     "output_type": "execute_result"
    }
   ],
   "source": [
    "df_1['Season'].unique()"
   ]
  },
  {
   "cell_type": "code",
   "execution_count": 257,
   "id": "bec95475-bd1b-40e2-b2b7-18f58ef48684",
   "metadata": {},
   "outputs": [
    {
     "data": {
      "text/plain": [
       "array(['Sunrisers Hyderabad', 'Mumbai Indians', 'Gujarat Lions',\n",
       "       'Rising Pune Supergiant', 'Royal Challengers Bangalore',\n",
       "       'Kolkata Knight Riders', 'Delhi Daredevils', 'Kings XI Punjab',\n",
       "       'Chennai Super Kings', 'Rajasthan Royals', 'Deccan Chargers',\n",
       "       'Kochi Tuskers Kerala', 'Pune Warriors', 'Rising Pune Supergiants',\n",
       "       'Delhi Capitals'], dtype=object)"
      ]
     },
     "execution_count": 257,
     "metadata": {},
     "output_type": "execute_result"
    }
   ],
   "source": [
    "df_1.team1.unique()"
   ]
  },
  {
   "cell_type": "markdown",
   "id": "ef14f970-cb34-4b02-94d8-a525bd207ce0",
   "metadata": {},
   "source": [
    "## observations:\n",
    "1. these are very lengthy names we can convert it to respective short forms.\n",
    "2. there are some spelling mistakes."
   ]
  },
  {
   "cell_type": "code",
   "execution_count": 258,
   "id": "2671a3e8-5c50-4c44-b593-93123b15bc05",
   "metadata": {},
   "outputs": [],
   "source": [
    "df_1.loc[(df_1['team1']=='Sunrisers Hyderabad'),['team1']]='SRH'\n",
    "df_1.loc[(df_1['team1']=='Mumbai Indians'),['team1']]='MI'\n",
    "df_1.loc[(df_1['team1']=='Gujarat Lions'),['team1']]='GL'\n",
    "df_1.loc[(df_1['team1']=='Rising Pune Supergiant'),['team1']]='RPS'\n",
    "df_1.loc[(df_1['team1']=='Rising Pune Supergiants'),['team1']]='RPS'\n",
    "df_1.loc[(df_1['team1']=='Royal Challengers Bangalore'),['team1']]='RCB'\n",
    "df_1.loc[(df_1['team1']=='Kolkata Knight Riders'),['team1']]='KKR'\n",
    "df_1.loc[(df_1['team1']=='Delhi Daredevils'),['team1']]='DD'\n",
    "df_1.loc[(df_1['team1']=='Kings XI Punjab'),['team1']]='KXIP'\n",
    "df_1.loc[(df_1['team1']=='Chennai Super Kings'),['team1']]='CSK'\n",
    "df_1.loc[(df_1['team1']=='Rajasthan Royals'),['team1']]='RR'\n",
    "df_1.loc[(df_1['team1']=='Deccan Chargers'),['team1']]='DCR'\n",
    "df_1.loc[(df_1['team1']=='Kochi Tuskers Kerala'),['team1']]='KTK'\n",
    "df_1.loc[(df_1['team1']=='Pune Warriors'),['team1']]='PW'\n",
    "df_1.loc[(df_1['team1']=='Delhi Capitals'),['team1']]='DC'"
   ]
  },
  {
   "cell_type": "code",
   "execution_count": 259,
   "id": "0b1a0553-595c-4039-bca5-156318a6b229",
   "metadata": {},
   "outputs": [
    {
     "data": {
      "text/plain": [
       "array(['SRH', 'MI', 'GL', 'RPS', 'RCB', 'KKR', 'DD', 'KXIP', 'CSK', 'RR',\n",
       "       'DCR', 'KTK', 'PW', 'DC'], dtype=object)"
      ]
     },
     "execution_count": 259,
     "metadata": {},
     "output_type": "execute_result"
    }
   ],
   "source": [
    "df_1.team1.unique()"
   ]
  },
  {
   "cell_type": "code",
   "execution_count": 260,
   "id": "8b34608c-f510-4bdb-9146-b9a839c8bc40",
   "metadata": {},
   "outputs": [
    {
     "data": {
      "text/plain": [
       "15"
      ]
     },
     "execution_count": 260,
     "metadata": {},
     "output_type": "execute_result"
    }
   ],
   "source": [
    "df_1.team2.nunique()"
   ]
  },
  {
   "cell_type": "code",
   "execution_count": 261,
   "id": "8ce5187f-ad69-4526-aa35-2ffe7db13b36",
   "metadata": {},
   "outputs": [],
   "source": [
    "df_1.loc[(df_1['team2']=='Sunrisers Hyderabad'),['team2']]='SRH'\n",
    "df_1.loc[(df_1['team2']=='Mumbai Indians'),['team2']]='MI'\n",
    "df_1.loc[(df_1['team2']=='Gujarat Lions'),['team2']]='GL'\n",
    "df_1.loc[(df_1['team2']=='Rising Pune Supergiant'),['team2']]='RPS'\n",
    "df_1.loc[(df_1['team2']=='Rising Pune Supergiants'),['team2']]='RPS'\n",
    "df_1.loc[(df_1['team2']=='Royal Challengers Bangalore'),['team2']]='RCB'\n",
    "df_1.loc[(df_1['team2']=='Kolkata Knight Riders'),['team2']]='KKR'\n",
    "df_1.loc[(df_1['team2']=='Delhi Daredevils'),['team2']]='DD'\n",
    "df_1.loc[(df_1['team2']=='Kings XI Punjab'),['team2']]='KXIP'\n",
    "df_1.loc[(df_1['team2']=='Chennai Super Kings'),['team2']]='CSK'\n",
    "df_1.loc[(df_1['team2']=='Rajasthan Royals'),['team2']]='RR'\n",
    "df_1.loc[(df_1['team2']=='Deccan Chargers'),['team2']]='DCR'\n",
    "df_1.loc[(df_1['team2']=='Kochi Tuskers Kerala'),['team2']]='KTK'\n",
    "df_1.loc[(df_1['team2']=='Pune Warriors'),['team2']]='PW'\n",
    "df_1.loc[(df_1['team2']=='Delhi Capitals'),['team2']]='DC'"
   ]
  },
  {
   "cell_type": "code",
   "execution_count": 262,
   "id": "cb402184-1106-4789-be7b-fea828859567",
   "metadata": {},
   "outputs": [
    {
     "data": {
      "text/plain": [
       "14"
      ]
     },
     "execution_count": 262,
     "metadata": {},
     "output_type": "execute_result"
    }
   ],
   "source": [
    "df_1.team2.nunique()"
   ]
  },
  {
   "cell_type": "code",
   "execution_count": 263,
   "id": "88b69fa5-c5af-4fd9-939d-98b847e96c00",
   "metadata": {},
   "outputs": [],
   "source": [
    "df_1.loc[(df_1['toss_winner']=='Sunrisers Hyderabad'),['toss_winner']]='SRH'\n",
    "df_1.loc[(df_1['toss_winner']=='Mumbai Indians'),['toss_winner']]='MI'\n",
    "df_1.loc[(df_1['toss_winner']=='Gujarat Lions'),['toss_winner']]='GL'\n",
    "df_1.loc[(df_1['toss_winner']=='Rising Pune Supergiant'),['toss_winner']]='RPS'\n",
    "df_1.loc[(df_1['toss_winner']=='Rising Pune Supergiants'),['toss_winner']]='RPS'\n",
    "df_1.loc[(df_1['toss_winner']=='Royal Challengers Bangalore'),['toss_winner']]='RCB'\n",
    "df_1.loc[(df_1['toss_winner']=='Kolkata Knight Riders'),['toss_winner']]='KKR'\n",
    "df_1.loc[(df_1['toss_winner']=='Delhi Daredevils'),['toss_winner']]='DD'\n",
    "df_1.loc[(df_1['toss_winner']=='Kings XI Punjab'),['toss_winner']]='KXIP'\n",
    "df_1.loc[(df_1['toss_winner']=='Chennai Super Kings'),['toss_winner']]='CSK'\n",
    "df_1.loc[(df_1['toss_winner']=='Rajasthan Royals'),['toss_winner']]='RR'\n",
    "df_1.loc[(df_1['toss_winner']=='Deccan Chargers'),['toss_winner']]='DCR'\n",
    "df_1.loc[(df_1['toss_winner']=='Kochi Tuskers Kerala'),['toss_winner']]='KTK'\n",
    "df_1.loc[(df_1['toss_winner']=='Pune Warriors'),['toss_winner']]='PW'\n",
    "df_1.loc[(df_1['toss_winner']=='Delhi Capitals'),['toss_winner']]='DC'"
   ]
  },
  {
   "cell_type": "code",
   "execution_count": 264,
   "id": "fa23652a-930f-40dd-81dd-3a6a96a1957f",
   "metadata": {},
   "outputs": [],
   "source": [
    "df_1.loc[(df_1['winner']=='Sunrisers Hyderabad'),['winner']]='SRH'\n",
    "df_1.loc[(df_1['winner']=='Mumbai Indians'),['winner']]='MI'\n",
    "df_1.loc[(df_1['winner']=='Gujarat Lions'),['winner']]='GL'\n",
    "df_1.loc[(df_1['winner']=='Rising Pune Supergiant'),['winner']]='RPS'\n",
    "df_1.loc[(df_1['winner']=='Rising Pune Supergiants'),['winner']]='RPS'\n",
    "df_1.loc[(df_1['winner']=='Royal Challengers Bangalore'),['winner']]='RCB'\n",
    "df_1.loc[(df_1['winner']=='Kolkata Knight Riders'),['winner']]='KKR'\n",
    "df_1.loc[(df_1['winner']=='Delhi Daredevils'),['winner']]='DD'\n",
    "df_1.loc[(df_1['winner']=='Kings XI Punjab'),['winner']]='KXIP'\n",
    "df_1.loc[(df_1['winner']=='Chennai Super Kings'),['winner']]='CSK'\n",
    "df_1.loc[(df_1['winner']=='Rajasthan Royals'),['winner']]='RR'\n",
    "df_1.loc[(df_1['winner']=='Deccan Chargers'),['winner']]='DCR'\n",
    "df_1.loc[(df_1['winner']=='Kochi Tuskers Kerala'),['winner']]='KTK'\n",
    "df_1.loc[(df_1['winner']=='Pune Warriors'),['winner']]='PW'\n",
    "df_1.loc[(df_1['winner']=='Delhi Capitals'),['winner']]='DC'"
   ]
  },
  {
   "cell_type": "code",
   "execution_count": 265,
   "id": "9c60c769-22ab-47de-8f00-11e788b882b6",
   "metadata": {},
   "outputs": [
    {
     "data": {
      "text/html": [
       "<div>\n",
       "<style scoped>\n",
       "    .dataframe tbody tr th:only-of-type {\n",
       "        vertical-align: middle;\n",
       "    }\n",
       "\n",
       "    .dataframe tbody tr th {\n",
       "        vertical-align: top;\n",
       "    }\n",
       "\n",
       "    .dataframe thead th {\n",
       "        text-align: right;\n",
       "    }\n",
       "</style>\n",
       "<table border=\"1\" class=\"dataframe\">\n",
       "  <thead>\n",
       "    <tr style=\"text-align: right;\">\n",
       "      <th></th>\n",
       "      <th>Season</th>\n",
       "      <th>city</th>\n",
       "      <th>date</th>\n",
       "      <th>team1</th>\n",
       "      <th>team2</th>\n",
       "      <th>toss_winner</th>\n",
       "      <th>toss_decision</th>\n",
       "      <th>result</th>\n",
       "      <th>dl_applied</th>\n",
       "      <th>winner</th>\n",
       "      <th>win_by_runs</th>\n",
       "      <th>win_by_wickets</th>\n",
       "      <th>player_of_match</th>\n",
       "      <th>venue</th>\n",
       "    </tr>\n",
       "  </thead>\n",
       "  <tbody>\n",
       "    <tr>\n",
       "      <th>0</th>\n",
       "      <td>IPL-2017</td>\n",
       "      <td>Hyderabad</td>\n",
       "      <td>05-04-2017</td>\n",
       "      <td>SRH</td>\n",
       "      <td>RCB</td>\n",
       "      <td>RCB</td>\n",
       "      <td>field</td>\n",
       "      <td>normal</td>\n",
       "      <td>0</td>\n",
       "      <td>SRH</td>\n",
       "      <td>35</td>\n",
       "      <td>0</td>\n",
       "      <td>Yuvraj Singh</td>\n",
       "      <td>Rajiv Gandhi International Stadium, Uppal</td>\n",
       "    </tr>\n",
       "    <tr>\n",
       "      <th>1</th>\n",
       "      <td>IPL-2017</td>\n",
       "      <td>Pune</td>\n",
       "      <td>06-04-2017</td>\n",
       "      <td>MI</td>\n",
       "      <td>RPS</td>\n",
       "      <td>RPS</td>\n",
       "      <td>field</td>\n",
       "      <td>normal</td>\n",
       "      <td>0</td>\n",
       "      <td>RPS</td>\n",
       "      <td>0</td>\n",
       "      <td>7</td>\n",
       "      <td>SPD Smith</td>\n",
       "      <td>Maharashtra Cricket Association Stadium</td>\n",
       "    </tr>\n",
       "    <tr>\n",
       "      <th>2</th>\n",
       "      <td>IPL-2017</td>\n",
       "      <td>Rajkot</td>\n",
       "      <td>07-04-2017</td>\n",
       "      <td>GL</td>\n",
       "      <td>KKR</td>\n",
       "      <td>KKR</td>\n",
       "      <td>field</td>\n",
       "      <td>normal</td>\n",
       "      <td>0</td>\n",
       "      <td>KKR</td>\n",
       "      <td>0</td>\n",
       "      <td>10</td>\n",
       "      <td>CA Lynn</td>\n",
       "      <td>Saurashtra Cricket Association Stadium</td>\n",
       "    </tr>\n",
       "    <tr>\n",
       "      <th>3</th>\n",
       "      <td>IPL-2017</td>\n",
       "      <td>Indore</td>\n",
       "      <td>08-04-2017</td>\n",
       "      <td>RPS</td>\n",
       "      <td>KXIP</td>\n",
       "      <td>KXIP</td>\n",
       "      <td>field</td>\n",
       "      <td>normal</td>\n",
       "      <td>0</td>\n",
       "      <td>KXIP</td>\n",
       "      <td>0</td>\n",
       "      <td>6</td>\n",
       "      <td>GJ Maxwell</td>\n",
       "      <td>Holkar Cricket Stadium</td>\n",
       "    </tr>\n",
       "    <tr>\n",
       "      <th>4</th>\n",
       "      <td>IPL-2017</td>\n",
       "      <td>Bangalore</td>\n",
       "      <td>08-04-2017</td>\n",
       "      <td>RCB</td>\n",
       "      <td>DD</td>\n",
       "      <td>RCB</td>\n",
       "      <td>bat</td>\n",
       "      <td>normal</td>\n",
       "      <td>0</td>\n",
       "      <td>RCB</td>\n",
       "      <td>15</td>\n",
       "      <td>0</td>\n",
       "      <td>KM Jadhav</td>\n",
       "      <td>M Chinnaswamy Stadium</td>\n",
       "    </tr>\n",
       "  </tbody>\n",
       "</table>\n",
       "</div>"
      ],
      "text/plain": [
       "     Season       city        date team1 team2 toss_winner toss_decision  \\\n",
       "0  IPL-2017  Hyderabad  05-04-2017   SRH   RCB         RCB         field   \n",
       "1  IPL-2017       Pune  06-04-2017    MI   RPS         RPS         field   \n",
       "2  IPL-2017     Rajkot  07-04-2017    GL   KKR         KKR         field   \n",
       "3  IPL-2017     Indore  08-04-2017   RPS  KXIP        KXIP         field   \n",
       "4  IPL-2017  Bangalore  08-04-2017   RCB    DD         RCB           bat   \n",
       "\n",
       "   result  dl_applied winner  win_by_runs  win_by_wickets player_of_match  \\\n",
       "0  normal           0    SRH           35               0    Yuvraj Singh   \n",
       "1  normal           0    RPS            0               7       SPD Smith   \n",
       "2  normal           0    KKR            0              10         CA Lynn   \n",
       "3  normal           0   KXIP            0               6      GJ Maxwell   \n",
       "4  normal           0    RCB           15               0       KM Jadhav   \n",
       "\n",
       "                                       venue  \n",
       "0  Rajiv Gandhi International Stadium, Uppal  \n",
       "1    Maharashtra Cricket Association Stadium  \n",
       "2     Saurashtra Cricket Association Stadium  \n",
       "3                     Holkar Cricket Stadium  \n",
       "4                      M Chinnaswamy Stadium  "
      ]
     },
     "execution_count": 265,
     "metadata": {},
     "output_type": "execute_result"
    }
   ],
   "source": [
    "df_1.head()"
   ]
  },
  {
   "cell_type": "markdown",
   "id": "1f2a07a6-e0c8-4e32-9f93-145dc6f9e4e3",
   "metadata": {},
   "source": [
    "we now have team names as there sort form which will be handy "
   ]
  },
  {
   "cell_type": "code",
   "execution_count": 270,
   "id": "45f1c139-ea33-4e6a-803e-c5cf829ce541",
   "metadata": {},
   "outputs": [
    {
     "data": {
      "text/plain": [
       "array(['Rajiv Gandhi International Stadium, Uppal',\n",
       "       'Maharashtra Cricket Association Stadium',\n",
       "       'Saurashtra Cricket Association Stadium', 'Holkar Cricket Stadium',\n",
       "       'M Chinnaswamy Stadium', 'Wankhede Stadium', 'Eden Gardens',\n",
       "       'Feroz Shah Kotla',\n",
       "       'Punjab Cricket Association IS Bindra Stadium, Mohali',\n",
       "       'Green Park', 'Punjab Cricket Association Stadium, Mohali',\n",
       "       'Sawai Mansingh Stadium', 'MA Chidambaram Stadium, Chepauk',\n",
       "       'Dr DY Patil Sports Academy', 'Newlands', \"St George's Park\",\n",
       "       'Kingsmead', 'SuperSport Park', 'Buffalo Park',\n",
       "       'New Wanderers Stadium', 'De Beers Diamond Oval',\n",
       "       'OUTsurance Oval', 'Brabourne Stadium',\n",
       "       'Sardar Patel Stadium, Motera', 'Barabati Stadium',\n",
       "       'Vidarbha Cricket Association Stadium, Jamtha',\n",
       "       'Himachal Pradesh Cricket Association Stadium', 'Nehru Stadium',\n",
       "       'Dr. Y.S. Rajasekhara Reddy ACA-VDCA Cricket Stadium',\n",
       "       'Subrata Roy Sahara Stadium',\n",
       "       'Shaheed Veer Narayan Singh International Stadium',\n",
       "       'JSCA International Stadium Complex', 'Sheikh Zayed Stadium',\n",
       "       'Sharjah Cricket Stadium', 'Dubai International Cricket Stadium',\n",
       "       'M. A. Chidambaram Stadium', 'Feroz Shah Kotla Ground',\n",
       "       'M. Chinnaswamy Stadium', 'Rajiv Gandhi Intl. Cricket Stadium',\n",
       "       'IS Bindra Stadium', 'ACA-VDCA Stadium'], dtype=object)"
      ]
     },
     "execution_count": 270,
     "metadata": {},
     "output_type": "execute_result"
    }
   ],
   "source": [
    "df_1.venue.unique()"
   ]
  },
  {
   "cell_type": "markdown",
   "id": "6c4c177a-0ff6-440b-973e-5b72791aa710",
   "metadata": {},
   "source": [
    "# spelling mistakes: or repeating with different spelling\n",
    "M Chinnaswamy Stadium\n",
    "\n",
    "M. A. Chidambaram Stadium\n",
    "\n",
    "Feroz Shah Kotla Ground\n",
    "\n",
    "Punjab Cricket Association IS Bindra Stadium, Mohali\n",
    "\n",
    "ACA-VDCA Stadium\n",
    "\n",
    "Rajiv Gandhi Intl. Cricket Stadium\n",
    "\n",
    "IS Bindra Stadium\n",
    "\n",
    "lets handle these first"
   ]
  },
  {
   "cell_type": "code",
   "execution_count": 271,
   "id": "7a67c72e-b85c-415d-a642-fe42f196692c",
   "metadata": {},
   "outputs": [],
   "source": [
    "df_1.loc[(df_1['venue']=='M. Chinnaswamy Stadium'),['venue']]='M Chinnaswamy Stadium'\n",
    "\n",
    "df_1.loc[(df_1['venue']=='M. A. Chidambaram Stadium'),['venue']]='Chepauk Stadium'\n",
    "df_1.loc[(df_1['venue']=='MA Chidambaram Stadium, Chepauk'),['venue']]='Chepauk Stadium'\n",
    "\n",
    "df_1.loc[(df_1['venue']=='Feroz Shah Kotla Ground'),['venue']]='Feroz Shah Kotla'\n",
    "\n",
    "df_1.loc[(df_1['venue']=='Punjab Cricket Association Stadium, Mohali'),['venue']]='Punjab Cricket Association IS Bindra Stadium, Mohali'\n",
    "df_1.loc[(df_1['venue']=='IS Bindra Stadium'),['venue']]='Punjab Cricket Association IS Bindra Stadium, Mohali'\n",
    "\n",
    "df_1.loc[(df_1['venue']=='ACA-VDCA Stadium'),['venue']]='Dr. Y.S. Rajasekhara Reddy ACA-VDCA Cricket Stadium'\n",
    "\n",
    "df_1.loc[(df_1['venue']=='Rajiv Gandhi International Stadium, Uppal'),['venue']]='Rajiv Gandhi Intl. Cricket Stadium'\n",
    "\n"
   ]
  },
  {
   "cell_type": "code",
   "execution_count": 274,
   "id": "95d95ce3-f80f-4209-aa43-43fc472c7afd",
   "metadata": {},
   "outputs": [
    {
     "data": {
      "text/plain": [
       "array(['Rajiv Gandhi Intl. Cricket Stadium',\n",
       "       'Maharashtra Cricket Association Stadium',\n",
       "       'Saurashtra Cricket Association Stadium', 'Holkar Cricket Stadium',\n",
       "       'M Chinnaswamy Stadium', 'Wankhede Stadium', 'Eden Gardens',\n",
       "       'Feroz Shah Kotla',\n",
       "       'Punjab Cricket Association IS Bindra Stadium, Mohali',\n",
       "       'Green Park', 'Sawai Mansingh Stadium', 'Chepauk Stadium',\n",
       "       'Dr DY Patil Sports Academy', 'Newlands', \"St George's Park\",\n",
       "       'Kingsmead', 'SuperSport Park', 'Buffalo Park',\n",
       "       'New Wanderers Stadium', 'De Beers Diamond Oval',\n",
       "       'OUTsurance Oval', 'Brabourne Stadium',\n",
       "       'Sardar Patel Stadium, Motera', 'Barabati Stadium',\n",
       "       'Vidarbha Cricket Association Stadium, Jamtha',\n",
       "       'Himachal Pradesh Cricket Association Stadium', 'Nehru Stadium',\n",
       "       'Dr. Y.S. Rajasekhara Reddy ACA-VDCA Cricket Stadium',\n",
       "       'Subrata Roy Sahara Stadium',\n",
       "       'Shaheed Veer Narayan Singh International Stadium',\n",
       "       'JSCA International Stadium Complex', 'Sheikh Zayed Stadium',\n",
       "       'Sharjah Cricket Stadium', 'Dubai International Cricket Stadium'],\n",
       "      dtype=object)"
      ]
     },
     "execution_count": 274,
     "metadata": {},
     "output_type": "execute_result"
    }
   ],
   "source": [
    "df_1.venue.unique()"
   ]
  },
  {
   "cell_type": "markdown",
   "id": "2c3ff8be-5564-46a3-aecb-a996e269d65b",
   "metadata": {},
   "source": [
    "#### we have handled the repeated names with different spellings, if we find more while visualization we will make changes accordingly."
   ]
  },
  {
   "cell_type": "code",
   "execution_count": 275,
   "id": "1908db88-dc5b-4053-8331-ccfda9788aaa",
   "metadata": {},
   "outputs": [
    {
     "data": {
      "text/html": [
       "<div>\n",
       "<style scoped>\n",
       "    .dataframe tbody tr th:only-of-type {\n",
       "        vertical-align: middle;\n",
       "    }\n",
       "\n",
       "    .dataframe tbody tr th {\n",
       "        vertical-align: top;\n",
       "    }\n",
       "\n",
       "    .dataframe thead th {\n",
       "        text-align: right;\n",
       "    }\n",
       "</style>\n",
       "<table border=\"1\" class=\"dataframe\">\n",
       "  <thead>\n",
       "    <tr style=\"text-align: right;\">\n",
       "      <th></th>\n",
       "      <th>Season</th>\n",
       "      <th>city</th>\n",
       "      <th>date</th>\n",
       "      <th>team1</th>\n",
       "      <th>team2</th>\n",
       "      <th>toss_winner</th>\n",
       "      <th>toss_decision</th>\n",
       "      <th>result</th>\n",
       "      <th>dl_applied</th>\n",
       "      <th>winner</th>\n",
       "      <th>win_by_runs</th>\n",
       "      <th>win_by_wickets</th>\n",
       "      <th>player_of_match</th>\n",
       "      <th>venue</th>\n",
       "    </tr>\n",
       "  </thead>\n",
       "  <tbody>\n",
       "    <tr>\n",
       "      <th>0</th>\n",
       "      <td>IPL-2017</td>\n",
       "      <td>Hyderabad</td>\n",
       "      <td>05-04-2017</td>\n",
       "      <td>SRH</td>\n",
       "      <td>RCB</td>\n",
       "      <td>RCB</td>\n",
       "      <td>field</td>\n",
       "      <td>normal</td>\n",
       "      <td>0</td>\n",
       "      <td>SRH</td>\n",
       "      <td>35</td>\n",
       "      <td>0</td>\n",
       "      <td>Yuvraj Singh</td>\n",
       "      <td>Rajiv Gandhi Intl. Cricket Stadium</td>\n",
       "    </tr>\n",
       "    <tr>\n",
       "      <th>1</th>\n",
       "      <td>IPL-2017</td>\n",
       "      <td>Pune</td>\n",
       "      <td>06-04-2017</td>\n",
       "      <td>MI</td>\n",
       "      <td>RPS</td>\n",
       "      <td>RPS</td>\n",
       "      <td>field</td>\n",
       "      <td>normal</td>\n",
       "      <td>0</td>\n",
       "      <td>RPS</td>\n",
       "      <td>0</td>\n",
       "      <td>7</td>\n",
       "      <td>SPD Smith</td>\n",
       "      <td>Maharashtra Cricket Association Stadium</td>\n",
       "    </tr>\n",
       "    <tr>\n",
       "      <th>2</th>\n",
       "      <td>IPL-2017</td>\n",
       "      <td>Rajkot</td>\n",
       "      <td>07-04-2017</td>\n",
       "      <td>GL</td>\n",
       "      <td>KKR</td>\n",
       "      <td>KKR</td>\n",
       "      <td>field</td>\n",
       "      <td>normal</td>\n",
       "      <td>0</td>\n",
       "      <td>KKR</td>\n",
       "      <td>0</td>\n",
       "      <td>10</td>\n",
       "      <td>CA Lynn</td>\n",
       "      <td>Saurashtra Cricket Association Stadium</td>\n",
       "    </tr>\n",
       "    <tr>\n",
       "      <th>3</th>\n",
       "      <td>IPL-2017</td>\n",
       "      <td>Indore</td>\n",
       "      <td>08-04-2017</td>\n",
       "      <td>RPS</td>\n",
       "      <td>KXIP</td>\n",
       "      <td>KXIP</td>\n",
       "      <td>field</td>\n",
       "      <td>normal</td>\n",
       "      <td>0</td>\n",
       "      <td>KXIP</td>\n",
       "      <td>0</td>\n",
       "      <td>6</td>\n",
       "      <td>GJ Maxwell</td>\n",
       "      <td>Holkar Cricket Stadium</td>\n",
       "    </tr>\n",
       "    <tr>\n",
       "      <th>4</th>\n",
       "      <td>IPL-2017</td>\n",
       "      <td>Bangalore</td>\n",
       "      <td>08-04-2017</td>\n",
       "      <td>RCB</td>\n",
       "      <td>DD</td>\n",
       "      <td>RCB</td>\n",
       "      <td>bat</td>\n",
       "      <td>normal</td>\n",
       "      <td>0</td>\n",
       "      <td>RCB</td>\n",
       "      <td>15</td>\n",
       "      <td>0</td>\n",
       "      <td>KM Jadhav</td>\n",
       "      <td>M Chinnaswamy Stadium</td>\n",
       "    </tr>\n",
       "  </tbody>\n",
       "</table>\n",
       "</div>"
      ],
      "text/plain": [
       "     Season       city        date team1 team2 toss_winner toss_decision  \\\n",
       "0  IPL-2017  Hyderabad  05-04-2017   SRH   RCB         RCB         field   \n",
       "1  IPL-2017       Pune  06-04-2017    MI   RPS         RPS         field   \n",
       "2  IPL-2017     Rajkot  07-04-2017    GL   KKR         KKR         field   \n",
       "3  IPL-2017     Indore  08-04-2017   RPS  KXIP        KXIP         field   \n",
       "4  IPL-2017  Bangalore  08-04-2017   RCB    DD         RCB           bat   \n",
       "\n",
       "   result  dl_applied winner  win_by_runs  win_by_wickets player_of_match  \\\n",
       "0  normal           0    SRH           35               0    Yuvraj Singh   \n",
       "1  normal           0    RPS            0               7       SPD Smith   \n",
       "2  normal           0    KKR            0              10         CA Lynn   \n",
       "3  normal           0   KXIP            0               6      GJ Maxwell   \n",
       "4  normal           0    RCB           15               0       KM Jadhav   \n",
       "\n",
       "                                     venue  \n",
       "0       Rajiv Gandhi Intl. Cricket Stadium  \n",
       "1  Maharashtra Cricket Association Stadium  \n",
       "2   Saurashtra Cricket Association Stadium  \n",
       "3                   Holkar Cricket Stadium  \n",
       "4                    M Chinnaswamy Stadium  "
      ]
     },
     "execution_count": 275,
     "metadata": {},
     "output_type": "execute_result"
    }
   ],
   "source": [
    "df_1.head()"
   ]
  },
  {
   "cell_type": "markdown",
   "id": "62c8f947-64c2-4c6d-8af2-5757d81b8a52",
   "metadata": {},
   "source": [
    "#### Note: since we have venues we can drop the city feature as venues are more meaningful than cities because same city may have more than one venue as in case of Mumbai"
   ]
  },
  {
   "cell_type": "code",
   "execution_count": 277,
   "id": "b12318e2-ca28-4bef-8565-b611ba5dae30",
   "metadata": {},
   "outputs": [],
   "source": [
    "df_1.drop('city',inplace=True,axis=1)"
   ]
  },
  {
   "cell_type": "code",
   "execution_count": 278,
   "id": "86b86ab7-5f2c-46a9-9da3-49946fd2b3be",
   "metadata": {},
   "outputs": [
    {
     "data": {
      "text/html": [
       "<div>\n",
       "<style scoped>\n",
       "    .dataframe tbody tr th:only-of-type {\n",
       "        vertical-align: middle;\n",
       "    }\n",
       "\n",
       "    .dataframe tbody tr th {\n",
       "        vertical-align: top;\n",
       "    }\n",
       "\n",
       "    .dataframe thead th {\n",
       "        text-align: right;\n",
       "    }\n",
       "</style>\n",
       "<table border=\"1\" class=\"dataframe\">\n",
       "  <thead>\n",
       "    <tr style=\"text-align: right;\">\n",
       "      <th></th>\n",
       "      <th>Season</th>\n",
       "      <th>date</th>\n",
       "      <th>team1</th>\n",
       "      <th>team2</th>\n",
       "      <th>toss_winner</th>\n",
       "      <th>toss_decision</th>\n",
       "      <th>result</th>\n",
       "      <th>dl_applied</th>\n",
       "      <th>winner</th>\n",
       "      <th>win_by_runs</th>\n",
       "      <th>win_by_wickets</th>\n",
       "      <th>player_of_match</th>\n",
       "      <th>venue</th>\n",
       "    </tr>\n",
       "  </thead>\n",
       "  <tbody>\n",
       "    <tr>\n",
       "      <th>0</th>\n",
       "      <td>IPL-2017</td>\n",
       "      <td>05-04-2017</td>\n",
       "      <td>SRH</td>\n",
       "      <td>RCB</td>\n",
       "      <td>RCB</td>\n",
       "      <td>field</td>\n",
       "      <td>normal</td>\n",
       "      <td>0</td>\n",
       "      <td>SRH</td>\n",
       "      <td>35</td>\n",
       "      <td>0</td>\n",
       "      <td>Yuvraj Singh</td>\n",
       "      <td>Rajiv Gandhi Intl. Cricket Stadium</td>\n",
       "    </tr>\n",
       "    <tr>\n",
       "      <th>1</th>\n",
       "      <td>IPL-2017</td>\n",
       "      <td>06-04-2017</td>\n",
       "      <td>MI</td>\n",
       "      <td>RPS</td>\n",
       "      <td>RPS</td>\n",
       "      <td>field</td>\n",
       "      <td>normal</td>\n",
       "      <td>0</td>\n",
       "      <td>RPS</td>\n",
       "      <td>0</td>\n",
       "      <td>7</td>\n",
       "      <td>SPD Smith</td>\n",
       "      <td>Maharashtra Cricket Association Stadium</td>\n",
       "    </tr>\n",
       "    <tr>\n",
       "      <th>2</th>\n",
       "      <td>IPL-2017</td>\n",
       "      <td>07-04-2017</td>\n",
       "      <td>GL</td>\n",
       "      <td>KKR</td>\n",
       "      <td>KKR</td>\n",
       "      <td>field</td>\n",
       "      <td>normal</td>\n",
       "      <td>0</td>\n",
       "      <td>KKR</td>\n",
       "      <td>0</td>\n",
       "      <td>10</td>\n",
       "      <td>CA Lynn</td>\n",
       "      <td>Saurashtra Cricket Association Stadium</td>\n",
       "    </tr>\n",
       "    <tr>\n",
       "      <th>3</th>\n",
       "      <td>IPL-2017</td>\n",
       "      <td>08-04-2017</td>\n",
       "      <td>RPS</td>\n",
       "      <td>KXIP</td>\n",
       "      <td>KXIP</td>\n",
       "      <td>field</td>\n",
       "      <td>normal</td>\n",
       "      <td>0</td>\n",
       "      <td>KXIP</td>\n",
       "      <td>0</td>\n",
       "      <td>6</td>\n",
       "      <td>GJ Maxwell</td>\n",
       "      <td>Holkar Cricket Stadium</td>\n",
       "    </tr>\n",
       "    <tr>\n",
       "      <th>4</th>\n",
       "      <td>IPL-2017</td>\n",
       "      <td>08-04-2017</td>\n",
       "      <td>RCB</td>\n",
       "      <td>DD</td>\n",
       "      <td>RCB</td>\n",
       "      <td>bat</td>\n",
       "      <td>normal</td>\n",
       "      <td>0</td>\n",
       "      <td>RCB</td>\n",
       "      <td>15</td>\n",
       "      <td>0</td>\n",
       "      <td>KM Jadhav</td>\n",
       "      <td>M Chinnaswamy Stadium</td>\n",
       "    </tr>\n",
       "  </tbody>\n",
       "</table>\n",
       "</div>"
      ],
      "text/plain": [
       "     Season        date team1 team2 toss_winner toss_decision  result  \\\n",
       "0  IPL-2017  05-04-2017   SRH   RCB         RCB         field  normal   \n",
       "1  IPL-2017  06-04-2017    MI   RPS         RPS         field  normal   \n",
       "2  IPL-2017  07-04-2017    GL   KKR         KKR         field  normal   \n",
       "3  IPL-2017  08-04-2017   RPS  KXIP        KXIP         field  normal   \n",
       "4  IPL-2017  08-04-2017   RCB    DD         RCB           bat  normal   \n",
       "\n",
       "   dl_applied winner  win_by_runs  win_by_wickets player_of_match  \\\n",
       "0           0    SRH           35               0    Yuvraj Singh   \n",
       "1           0    RPS            0               7       SPD Smith   \n",
       "2           0    KKR            0              10         CA Lynn   \n",
       "3           0   KXIP            0               6      GJ Maxwell   \n",
       "4           0    RCB           15               0       KM Jadhav   \n",
       "\n",
       "                                     venue  \n",
       "0       Rajiv Gandhi Intl. Cricket Stadium  \n",
       "1  Maharashtra Cricket Association Stadium  \n",
       "2   Saurashtra Cricket Association Stadium  \n",
       "3                   Holkar Cricket Stadium  \n",
       "4                    M Chinnaswamy Stadium  "
      ]
     },
     "execution_count": 278,
     "metadata": {},
     "output_type": "execute_result"
    }
   ],
   "source": [
    "df_1.head()"
   ]
  },
  {
   "cell_type": "code",
   "execution_count": 279,
   "id": "bf667e24-ef24-4efb-8943-f076d6f3da43",
   "metadata": {},
   "outputs": [
    {
     "data": {
      "text/plain": [
       "(752, 13)"
      ]
     },
     "execution_count": 279,
     "metadata": {},
     "output_type": "execute_result"
    }
   ],
   "source": [
    "df_1.shape"
   ]
  },
  {
   "cell_type": "code",
   "execution_count": 281,
   "id": "d7f5d284-a48d-4637-9e33-2396bb2e313e",
   "metadata": {},
   "outputs": [
    {
     "name": "stdout",
     "output_type": "stream",
     "text": [
      "<class 'pandas.core.frame.DataFrame'>\n",
      "Int64Index: 752 entries, 0 to 755\n",
      "Data columns (total 13 columns):\n",
      " #   Column           Non-Null Count  Dtype \n",
      "---  ------           --------------  ----- \n",
      " 0   Season           752 non-null    object\n",
      " 1   date             752 non-null    object\n",
      " 2   team1            752 non-null    object\n",
      " 3   team2            752 non-null    object\n",
      " 4   toss_winner      752 non-null    object\n",
      " 5   toss_decision    752 non-null    object\n",
      " 6   result           752 non-null    object\n",
      " 7   dl_applied       752 non-null    int64 \n",
      " 8   winner           752 non-null    object\n",
      " 9   win_by_runs      752 non-null    int64 \n",
      " 10  win_by_wickets   752 non-null    int64 \n",
      " 11  player_of_match  752 non-null    object\n",
      " 12  venue            752 non-null    object\n",
      "dtypes: int64(3), object(10)\n",
      "memory usage: 82.2+ KB\n"
     ]
    }
   ],
   "source": [
    "df_1.info()"
   ]
  },
  {
   "cell_type": "markdown",
   "id": "bc9750a6-1058-4805-ad97-6acf26e9306b",
   "metadata": {},
   "source": [
    "#### NOTE: so far we have cleaned our data and we can proceed for visuaization."
   ]
  },
  {
   "cell_type": "code",
   "execution_count": 285,
   "id": "8c467d55-4d69-4685-88bf-630f706f0fd9",
   "metadata": {},
   "outputs": [],
   "source": [
    "# saving this DataFrame \n",
    "df_1.to_excel('MATCHES_clean.xlsx',index=False)\n",
    "# we will do the visualization part on this xlsx file."
   ]
  },
  {
   "cell_type": "code",
   "execution_count": null,
   "id": "ea596087-46aa-4f29-b7d1-bbd665d4823c",
   "metadata": {},
   "outputs": [],
   "source": []
  }
 ],
 "metadata": {
  "kernelspec": {
   "display_name": "Python 3 (ipykernel)",
   "language": "python",
   "name": "python3"
  },
  "language_info": {
   "codemirror_mode": {
    "name": "ipython",
    "version": 3
   },
   "file_extension": ".py",
   "mimetype": "text/x-python",
   "name": "python",
   "nbconvert_exporter": "python",
   "pygments_lexer": "ipython3",
   "version": "3.9.12"
  }
 },
 "nbformat": 4,
 "nbformat_minor": 5
}
